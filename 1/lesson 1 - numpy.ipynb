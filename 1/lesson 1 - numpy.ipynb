{
 "cells": [
  {
   "cell_type": "code",
   "execution_count": 1,
   "id": "091dfb06-87a6-4b53-8ca3-c5ca785c561d",
   "metadata": {},
   "outputs": [
    {
     "name": "stdout",
     "output_type": "stream",
     "text": [
      "Collecting numpy\n",
      "  Downloading numpy-1.26.4-cp310-cp310-win_amd64.whl.metadata (61 kB)\n",
      "     ---------------------------------------- 0.0/61.0 kB ? eta -:--:--\n",
      "     ------------------------- ------------ 41.0/61.0 kB 991.0 kB/s eta 0:00:01\n",
      "     ---------------------------------------- 61.0/61.0 kB 1.1 MB/s eta 0:00:00\n",
      "Downloading numpy-1.26.4-cp310-cp310-win_amd64.whl (15.8 MB)\n",
      "   ---------------------------------------- 0.0/15.8 MB ? eta -:--:--\n",
      "   ---------------------------------------- 0.0/15.8 MB 1.3 MB/s eta 0:00:13\n",
      "   ---------------------------------------- 0.1/15.8 MB 1.4 MB/s eta 0:00:12\n",
      "    --------------------------------------- 0.4/15.8 MB 3.0 MB/s eta 0:00:06\n",
      "   - -------------------------------------- 0.7/15.8 MB 4.3 MB/s eta 0:00:04\n",
      "   -- ------------------------------------- 1.1/15.8 MB 4.8 MB/s eta 0:00:04\n",
      "   --- ------------------------------------ 1.4/15.8 MB 5.1 MB/s eta 0:00:03\n",
      "   ---- ----------------------------------- 1.8/15.8 MB 5.6 MB/s eta 0:00:03\n",
      "   ----- ---------------------------------- 2.2/15.8 MB 6.1 MB/s eta 0:00:03\n",
      "   ------ --------------------------------- 2.6/15.8 MB 6.3 MB/s eta 0:00:03\n",
      "   ------- -------------------------------- 3.0/15.8 MB 6.6 MB/s eta 0:00:02\n",
      "   -------- ------------------------------- 3.4/15.8 MB 6.7 MB/s eta 0:00:02\n",
      "   --------- ------------------------------ 3.8/15.8 MB 6.9 MB/s eta 0:00:02\n",
      "   ---------- ----------------------------- 4.1/15.8 MB 7.0 MB/s eta 0:00:02\n",
      "   ----------- ---------------------------- 4.5/15.8 MB 7.1 MB/s eta 0:00:02\n",
      "   ------------ --------------------------- 4.9/15.8 MB 7.1 MB/s eta 0:00:02\n",
      "   ------------- -------------------------- 5.3/15.8 MB 7.4 MB/s eta 0:00:02\n",
      "   -------------- ------------------------- 5.6/15.8 MB 7.3 MB/s eta 0:00:02\n",
      "   --------------- ------------------------ 6.0/15.8 MB 7.3 MB/s eta 0:00:02\n",
      "   ---------------- ----------------------- 6.5/15.8 MB 7.5 MB/s eta 0:00:02\n",
      "   ----------------- ---------------------- 6.9/15.8 MB 7.5 MB/s eta 0:00:02\n",
      "   ------------------ --------------------- 7.2/15.8 MB 7.6 MB/s eta 0:00:02\n",
      "   ------------------- -------------------- 7.6/15.8 MB 7.6 MB/s eta 0:00:02\n",
      "   -------------------- ------------------- 8.0/15.8 MB 7.6 MB/s eta 0:00:02\n",
      "   --------------------- ------------------ 8.4/15.8 MB 7.7 MB/s eta 0:00:01\n",
      "   ---------------------- ----------------- 8.8/15.8 MB 7.7 MB/s eta 0:00:01\n",
      "   ----------------------- ---------------- 9.1/15.8 MB 7.7 MB/s eta 0:00:01\n",
      "   ----------------------- ---------------- 9.3/15.8 MB 7.5 MB/s eta 0:00:01\n",
      "   ------------------------ --------------- 9.7/15.8 MB 7.5 MB/s eta 0:00:01\n",
      "   ------------------------- -------------- 10.1/15.8 MB 7.5 MB/s eta 0:00:01\n",
      "   -------------------------- ------------- 10.5/15.8 MB 8.2 MB/s eta 0:00:01\n",
      "   --------------------------- ------------ 10.9/15.8 MB 8.2 MB/s eta 0:00:01\n",
      "   ---------------------------- ----------- 11.4/15.8 MB 8.3 MB/s eta 0:00:01\n",
      "   ----------------------------- ---------- 11.7/15.8 MB 8.3 MB/s eta 0:00:01\n",
      "   ------------------------------ --------- 12.1/15.8 MB 8.3 MB/s eta 0:00:01\n",
      "   ------------------------------- -------- 12.5/15.8 MB 8.3 MB/s eta 0:00:01\n",
      "   -------------------------------- ------- 12.9/15.8 MB 8.3 MB/s eta 0:00:01\n",
      "   --------------------------------- ------ 13.3/15.8 MB 8.3 MB/s eta 0:00:01\n",
      "   ---------------------------------- ----- 13.7/15.8 MB 8.3 MB/s eta 0:00:01\n",
      "   ----------------------------------- ---- 14.1/15.8 MB 8.3 MB/s eta 0:00:01\n",
      "   ------------------------------------ --- 14.5/15.8 MB 8.3 MB/s eta 0:00:01\n",
      "   ------------------------------------- -- 14.9/15.8 MB 8.2 MB/s eta 0:00:01\n",
      "   -------------------------------------- - 15.3/15.8 MB 8.3 MB/s eta 0:00:01\n",
      "   ---------------------------------------  15.7/15.8 MB 8.3 MB/s eta 0:00:01\n",
      "   ---------------------------------------- 15.8/15.8 MB 8.1 MB/s eta 0:00:00\n",
      "Installing collected packages: numpy\n",
      "Note: you may need to restart the kernel to use updated packages.\n"
     ]
    },
    {
     "name": "stderr",
     "output_type": "stream",
     "text": [
      "  WARNING: Failed to write executable - trying to use .deleteme logic\n",
      "ERROR: Could not install packages due to an OSError: [WinError 2] The system cannot find the file specified: 'C:\\\\Python310\\\\Scripts\\\\f2py.exe' -> 'C:\\\\Python310\\\\Scripts\\\\f2py.exe.deleteme'\n",
      "\n",
      "\n",
      "[notice] A new release of pip is available: 23.3.2 -> 24.0\n",
      "[notice] To update, run: python.exe -m pip install --upgrade pip\n"
     ]
    }
   ],
   "source": [
    "pip install numpy"
   ]
  },
  {
   "cell_type": "code",
   "execution_count": 2,
   "id": "312eb1d6-52dd-49d5-a531-2ede28cd2283",
   "metadata": {},
   "outputs": [],
   "source": [
    "import numpy as np"
   ]
  },
  {
   "cell_type": "markdown",
   "id": "c9ac338b-ecd2-435b-8d24-b58a21429acf",
   "metadata": {},
   "source": [
    "1."
   ]
  },
  {
   "cell_type": "code",
   "execution_count": 5,
   "id": "02b47b1f-5f47-4774-b2dc-23d6b55dccae",
   "metadata": {},
   "outputs": [],
   "source": [
    "array = np.random.randint(1,50,size=(2,2,2))"
   ]
  },
  {
   "cell_type": "code",
   "execution_count": 6,
   "id": "7e94d6a8-6b6e-4e06-b40e-433bd0c2ff27",
   "metadata": {},
   "outputs": [
    {
     "data": {
      "text/plain": [
       "array([[[ 7, 30],\n",
       "        [34, 16]],\n",
       "\n",
       "       [[45, 18],\n",
       "        [31, 23]]])"
      ]
     },
     "execution_count": 6,
     "metadata": {},
     "output_type": "execute_result"
    }
   ],
   "source": [
    "array"
   ]
  },
  {
   "cell_type": "code",
   "execution_count": 7,
   "id": "b1dd6d28-03dc-4ceb-8b6d-ebb513d2b491",
   "metadata": {},
   "outputs": [
    {
     "data": {
      "text/plain": [
       "dtype('int32')"
      ]
     },
     "execution_count": 7,
     "metadata": {},
     "output_type": "execute_result"
    }
   ],
   "source": [
    "array.dtype"
   ]
  },
  {
   "cell_type": "code",
   "execution_count": 8,
   "id": "42d7beea-d598-4c9b-8f34-4c20e2a022f7",
   "metadata": {},
   "outputs": [
    {
     "data": {
      "text/plain": [
       "3"
      ]
     },
     "execution_count": 8,
     "metadata": {},
     "output_type": "execute_result"
    }
   ],
   "source": [
    "np.ndim(array)"
   ]
  },
  {
   "cell_type": "code",
   "execution_count": 9,
   "id": "198310bf-69e4-4ca0-bd70-281be9670871",
   "metadata": {},
   "outputs": [
    {
     "data": {
      "text/plain": [
       "(2, 2, 2)"
      ]
     },
     "execution_count": 9,
     "metadata": {},
     "output_type": "execute_result"
    }
   ],
   "source": [
    "array.shape"
   ]
  },
  {
   "cell_type": "code",
   "execution_count": 11,
   "id": "8d9429f0-3d20-49a0-a853-3ae44b497e50",
   "metadata": {},
   "outputs": [
    {
     "data": {
      "text/plain": [
       "8"
      ]
     },
     "execution_count": 11,
     "metadata": {},
     "output_type": "execute_result"
    }
   ],
   "source": [
    "array.size"
   ]
  },
  {
   "cell_type": "markdown",
   "id": "c7c7220f-d459-4b9d-b9dd-531df75d3b92",
   "metadata": {},
   "source": [
    "-------"
   ]
  },
  {
   "cell_type": "markdown",
   "id": "60df9f15-d922-49fb-b8f0-f436a400a082",
   "metadata": {},
   "source": [
    "1."
   ]
  },
  {
   "cell_type": "code",
   "execution_count": 12,
   "id": "88d89822-8703-4426-95f0-1cdd3ebd72ff",
   "metadata": {},
   "outputs": [],
   "source": [
    "a = np.random.randint(1,50,size=(10))"
   ]
  },
  {
   "cell_type": "code",
   "execution_count": 13,
   "id": "8afd6d14-f2f9-4991-bbd4-ccee071b7a3a",
   "metadata": {},
   "outputs": [
    {
     "data": {
      "text/plain": [
       "array([23, 12, 27, 35, 43, 46, 17, 40,  2,  3])"
      ]
     },
     "execution_count": 13,
     "metadata": {},
     "output_type": "execute_result"
    }
   ],
   "source": [
    "a"
   ]
  },
  {
   "cell_type": "code",
   "execution_count": 14,
   "id": "e2a99d42-57d4-4f4f-ad55-d2913ecf6063",
   "metadata": {},
   "outputs": [
    {
     "data": {
      "text/plain": [
       "24.8"
      ]
     },
     "execution_count": 14,
     "metadata": {},
     "output_type": "execute_result"
    }
   ],
   "source": [
    "np.mean(a)"
   ]
  },
  {
   "cell_type": "markdown",
   "id": "c9ef08c2-c1b0-49bc-8508-1391310ed5ae",
   "metadata": {},
   "source": [
    "2."
   ]
  },
  {
   "cell_type": "code",
   "execution_count": 15,
   "id": "cae14b62-8926-45c6-83ab-5c79cd2204a3",
   "metadata": {},
   "outputs": [
    {
     "name": "stderr",
     "output_type": "stream",
     "text": [
      "<>:1: SyntaxWarning: list indices must be integers or slices, not tuple; perhaps you missed a comma?\n",
      "<>:2: SyntaxWarning: list indices must be integers or slices, not tuple; perhaps you missed a comma?\n",
      "<>:1: SyntaxWarning: list indices must be integers or slices, not tuple; perhaps you missed a comma?\n",
      "<>:2: SyntaxWarning: list indices must be integers or slices, not tuple; perhaps you missed a comma?\n",
      "C:\\Users\\huser\\AppData\\Local\\Temp\\ipykernel_9760\\225710998.py:1: SyntaxWarning: list indices must be integers or slices, not tuple; perhaps you missed a comma?\n",
      "  a = np.array([[1, 2, 3][4,5,6][7,8,9]])\n",
      "C:\\Users\\huser\\AppData\\Local\\Temp\\ipykernel_9760\\225710998.py:1: SyntaxWarning: list indices must be integers or slices, not tuple; perhaps you missed a comma?\n",
      "  a = np.array([[1, 2, 3][4,5,6][7,8,9]])\n",
      "C:\\Users\\huser\\AppData\\Local\\Temp\\ipykernel_9760\\225710998.py:1: SyntaxWarning: list indices must be integers or slices, not tuple; perhaps you missed a comma?\n",
      "  a = np.array([[1, 2, 3][4,5,6][7,8,9]])\n",
      "C:\\Users\\huser\\AppData\\Local\\Temp\\ipykernel_9760\\225710998.py:1: SyntaxWarning: list indices must be integers or slices, not tuple; perhaps you missed a comma?\n",
      "  a = np.array([[1, 2, 3][4,5,6][7,8,9]])\n"
     ]
    },
    {
     "ename": "TypeError",
     "evalue": "list indices must be integers or slices, not tuple",
     "output_type": "error",
     "traceback": [
      "\u001b[1;31m---------------------------------------------------------------------------\u001b[0m",
      "\u001b[1;31mTypeError\u001b[0m                                 Traceback (most recent call last)",
      "Cell \u001b[1;32mIn[15], line 1\u001b[0m\n\u001b[1;32m----> 1\u001b[0m a \u001b[38;5;241m=\u001b[39m np\u001b[38;5;241m.\u001b[39marray([\u001b[43m[\u001b[49m\u001b[38;5;241;43m1\u001b[39;49m\u001b[43m,\u001b[49m\u001b[43m \u001b[49m\u001b[38;5;241;43m2\u001b[39;49m\u001b[43m,\u001b[49m\u001b[43m \u001b[49m\u001b[38;5;241;43m3\u001b[39;49m\u001b[43m]\u001b[49m\u001b[43m[\u001b[49m\u001b[38;5;241;43m4\u001b[39;49m\u001b[43m,\u001b[49m\u001b[38;5;241;43m5\u001b[39;49m\u001b[43m,\u001b[49m\u001b[38;5;241;43m6\u001b[39;49m\u001b[43m]\u001b[49m[\u001b[38;5;241m7\u001b[39m,\u001b[38;5;241m8\u001b[39m,\u001b[38;5;241m9\u001b[39m]])\n\u001b[0;32m      2\u001b[0m b \u001b[38;5;241m=\u001b[39m np\u001b[38;5;241m.\u001b[39marray([[\u001b[38;5;241m2\u001b[39m, \u001b[38;5;241m2\u001b[39m, \u001b[38;5;241m2\u001b[39m][\u001b[38;5;241m3\u001b[39m,\u001b[38;5;241m3\u001b[39m,\u001b[38;5;241m3\u001b[39m][\u001b[38;5;241m4\u001b[39m,\u001b[38;5;241m4\u001b[39m,\u001b[38;5;241m4\u001b[39m]])\n\u001b[0;32m      3\u001b[0m ab \u001b[38;5;241m=\u001b[39m np\u001b[38;5;241m.\u001b[39madd(a, b)\n",
      "\u001b[1;31mTypeError\u001b[0m: list indices must be integers or slices, not tuple"
     ]
    }
   ],
   "source": [
    "a = np.array([[1, 2, 3][4,5,6][7,8,9]])\n",
    "b = np.array([[2, 2, 2][3,3,3][4,4,4]])\n",
    "ab = np.add(a, b)"
   ]
  },
  {
   "cell_type": "code",
   "execution_count": 16,
   "id": "8f7ff594-f5d3-4588-a3ff-5918bb7b1860",
   "metadata": {},
   "outputs": [
    {
     "name": "stderr",
     "output_type": "stream",
     "text": [
      "<>:1: SyntaxWarning: list indices must be integers or slices, not tuple; perhaps you missed a comma?\n",
      "<>:1: SyntaxWarning: list indices must be integers or slices, not tuple; perhaps you missed a comma?\n",
      "C:\\Users\\huser\\AppData\\Local\\Temp\\ipykernel_9760\\1528246884.py:1: SyntaxWarning: list indices must be integers or slices, not tuple; perhaps you missed a comma?\n",
      "  a = np.array([[1, 2, 3][4,5,6][7,8,9]])\n",
      "C:\\Users\\huser\\AppData\\Local\\Temp\\ipykernel_9760\\1528246884.py:1: SyntaxWarning: list indices must be integers or slices, not tuple; perhaps you missed a comma?\n",
      "  a = np.array([[1, 2, 3][4,5,6][7,8,9]])\n",
      "C:\\Users\\huser\\AppData\\Local\\Temp\\ipykernel_9760\\1528246884.py:1: SyntaxWarning: list indices must be integers or slices, not tuple; perhaps you missed a comma?\n",
      "  a = np.array([[1, 2, 3][4,5,6][7,8,9]])\n",
      "C:\\Users\\huser\\AppData\\Local\\Temp\\ipykernel_9760\\1528246884.py:1: SyntaxWarning: list indices must be integers or slices, not tuple; perhaps you missed a comma?\n",
      "  a = np.array([[1, 2, 3][4,5,6][7,8,9]])\n"
     ]
    },
    {
     "ename": "TypeError",
     "evalue": "list indices must be integers or slices, not tuple",
     "output_type": "error",
     "traceback": [
      "\u001b[1;31m---------------------------------------------------------------------------\u001b[0m",
      "\u001b[1;31mTypeError\u001b[0m                                 Traceback (most recent call last)",
      "Cell \u001b[1;32mIn[16], line 1\u001b[0m\n\u001b[1;32m----> 1\u001b[0m a \u001b[38;5;241m=\u001b[39m np\u001b[38;5;241m.\u001b[39marray([\u001b[43m[\u001b[49m\u001b[38;5;241;43m1\u001b[39;49m\u001b[43m,\u001b[49m\u001b[43m \u001b[49m\u001b[38;5;241;43m2\u001b[39;49m\u001b[43m,\u001b[49m\u001b[43m \u001b[49m\u001b[38;5;241;43m3\u001b[39;49m\u001b[43m]\u001b[49m\u001b[43m[\u001b[49m\u001b[38;5;241;43m4\u001b[39;49m\u001b[43m,\u001b[49m\u001b[38;5;241;43m5\u001b[39;49m\u001b[43m,\u001b[49m\u001b[38;5;241;43m6\u001b[39;49m\u001b[43m]\u001b[49m[\u001b[38;5;241m7\u001b[39m,\u001b[38;5;241m8\u001b[39m,\u001b[38;5;241m9\u001b[39m]])\n",
      "\u001b[1;31mTypeError\u001b[0m: list indices must be integers or slices, not tuple"
     ]
    }
   ],
   "source": [
    "a = np.array([[1, 2, 3][4,5,6][7,8,9]])\n"
   ]
  },
  {
   "cell_type": "code",
   "execution_count": 17,
   "id": "74111645-b642-4e4b-93d6-d9f200618f43",
   "metadata": {},
   "outputs": [],
   "source": [
    "a = np.array([[1, 2, 3],[4,5,6],[7,8,9]])\n"
   ]
  },
  {
   "cell_type": "code",
   "execution_count": 18,
   "id": "c85b0b32-79ce-4a84-a5e6-054f0e2e4385",
   "metadata": {},
   "outputs": [
    {
     "name": "stderr",
     "output_type": "stream",
     "text": [
      "<>:1: SyntaxWarning: list indices must be integers or slices, not tuple; perhaps you missed a comma?\n",
      "<>:2: SyntaxWarning: list indices must be integers or slices, not tuple; perhaps you missed a comma?\n",
      "<>:1: SyntaxWarning: list indices must be integers or slices, not tuple; perhaps you missed a comma?\n",
      "<>:2: SyntaxWarning: list indices must be integers or slices, not tuple; perhaps you missed a comma?\n",
      "C:\\Users\\huser\\AppData\\Local\\Temp\\ipykernel_9760\\3087161843.py:1: SyntaxWarning: list indices must be integers or slices, not tuple; perhaps you missed a comma?\n",
      "  a = np.array([[1, 2, 3][4,5,6][7,8,9]])\n",
      "C:\\Users\\huser\\AppData\\Local\\Temp\\ipykernel_9760\\3087161843.py:1: SyntaxWarning: list indices must be integers or slices, not tuple; perhaps you missed a comma?\n",
      "  a = np.array([[1, 2, 3][4,5,6][7,8,9]])\n",
      "C:\\Users\\huser\\AppData\\Local\\Temp\\ipykernel_9760\\3087161843.py:1: SyntaxWarning: list indices must be integers or slices, not tuple; perhaps you missed a comma?\n",
      "  a = np.array([[1, 2, 3][4,5,6][7,8,9]])\n",
      "C:\\Users\\huser\\AppData\\Local\\Temp\\ipykernel_9760\\3087161843.py:1: SyntaxWarning: list indices must be integers or slices, not tuple; perhaps you missed a comma?\n",
      "  a = np.array([[1, 2, 3][4,5,6][7,8,9]])\n"
     ]
    },
    {
     "ename": "TypeError",
     "evalue": "list indices must be integers or slices, not tuple",
     "output_type": "error",
     "traceback": [
      "\u001b[1;31m---------------------------------------------------------------------------\u001b[0m",
      "\u001b[1;31mTypeError\u001b[0m                                 Traceback (most recent call last)",
      "Cell \u001b[1;32mIn[18], line 1\u001b[0m\n\u001b[1;32m----> 1\u001b[0m a \u001b[38;5;241m=\u001b[39m np\u001b[38;5;241m.\u001b[39marray([\u001b[43m[\u001b[49m\u001b[38;5;241;43m1\u001b[39;49m\u001b[43m,\u001b[49m\u001b[43m \u001b[49m\u001b[38;5;241;43m2\u001b[39;49m\u001b[43m,\u001b[49m\u001b[43m \u001b[49m\u001b[38;5;241;43m3\u001b[39;49m\u001b[43m]\u001b[49m\u001b[43m[\u001b[49m\u001b[38;5;241;43m4\u001b[39;49m\u001b[43m,\u001b[49m\u001b[38;5;241;43m5\u001b[39;49m\u001b[43m,\u001b[49m\u001b[38;5;241;43m6\u001b[39;49m\u001b[43m]\u001b[49m[\u001b[38;5;241m7\u001b[39m,\u001b[38;5;241m8\u001b[39m,\u001b[38;5;241m9\u001b[39m]])\n\u001b[0;32m      2\u001b[0m b \u001b[38;5;241m=\u001b[39m np\u001b[38;5;241m.\u001b[39marray([[\u001b[38;5;241m2\u001b[39m, \u001b[38;5;241m2\u001b[39m, \u001b[38;5;241m2\u001b[39m][\u001b[38;5;241m3\u001b[39m,\u001b[38;5;241m3\u001b[39m,\u001b[38;5;241m3\u001b[39m][\u001b[38;5;241m4\u001b[39m,\u001b[38;5;241m4\u001b[39m,\u001b[38;5;241m4\u001b[39m]])\n\u001b[0;32m      3\u001b[0m ab \u001b[38;5;241m=\u001b[39m np\u001b[38;5;241m.\u001b[39madd(a, b)\n",
      "\u001b[1;31mTypeError\u001b[0m: list indices must be integers or slices, not tuple"
     ]
    }
   ],
   "source": [
    "a = np.array([[1, 2, 3][4,5,6][7,8,9]])\n",
    "b = np.array([[2, 2, 2][3,3,3][4,4,4]])\n",
    "ab = np.add(a, b)\n",
    "ab"
   ]
  },
  {
   "cell_type": "code",
   "execution_count": 19,
   "id": "c1af8e33-79e5-4fc1-97fc-38b90441b229",
   "metadata": {},
   "outputs": [
    {
     "data": {
      "text/plain": [
       "array([[ 3,  4,  5],\n",
       "       [ 7,  8,  9],\n",
       "       [11, 12, 13]])"
      ]
     },
     "execution_count": 19,
     "metadata": {},
     "output_type": "execute_result"
    }
   ],
   "source": [
    "a = np.array([[1, 2, 3],[4,5,6],[7,8,9]])\n",
    "b = np.array([[2, 2, 2],[3,3,3],[4,4,4]])\n",
    "ab = np.add(a, b)\n",
    "ab"
   ]
  },
  {
   "cell_type": "code",
   "execution_count": 20,
   "id": "642efaf6-0d77-444d-a1ee-801eaccd2ff6",
   "metadata": {},
   "outputs": [
    {
     "data": {
      "text/plain": [
       "8.0"
      ]
     },
     "execution_count": 20,
     "metadata": {},
     "output_type": "execute_result"
    }
   ],
   "source": [
    "np.mean(ab)"
   ]
  },
  {
   "cell_type": "markdown",
   "id": "999fe636-fd05-4180-b1e8-251813ffbdb7",
   "metadata": {},
   "source": [
    "3."
   ]
  },
  {
   "cell_type": "code",
   "execution_count": 21,
   "id": "b7f1bfee-6446-49e1-8dc9-01df527625bb",
   "metadata": {},
   "outputs": [
    {
     "data": {
      "text/plain": [
       "array([66, 57, 72, 59, 64, 56, 64, 62, 68, 59])"
      ]
     },
     "execution_count": 21,
     "metadata": {},
     "output_type": "execute_result"
    }
   ],
   "source": [
    "array = np.random.randint(1,100,size=(20))\n",
    "big50 = array[array>50]\n",
    "big50"
   ]
  },
  {
   "cell_type": "markdown",
   "id": "ae579ed7-91de-4457-a069-278a2b654d91",
   "metadata": {},
   "source": [
    "4."
   ]
  },
  {
   "cell_type": "code",
   "execution_count": 22,
   "id": "f3adb95e-c0b0-4440-a3fd-5038ef403233",
   "metadata": {},
   "outputs": [],
   "source": [
    "a = np.array([1,2,3,4,5,6,7,8,9,10])"
   ]
  },
  {
   "cell_type": "code",
   "execution_count": 23,
   "id": "6070e36e-b201-4589-a140-6eadaff02966",
   "metadata": {},
   "outputs": [
    {
     "data": {
      "text/plain": [
       "array([ 1,  2,  3,  4,  5,  6,  7,  8,  9, 10])"
      ]
     },
     "execution_count": 23,
     "metadata": {},
     "output_type": "execute_result"
    }
   ],
   "source": [
    "a"
   ]
  },
  {
   "cell_type": "code",
   "execution_count": 24,
   "id": "8f226bd5-9ab1-45ff-abce-69438a187403",
   "metadata": {},
   "outputs": [],
   "source": [
    "np.random. shuffle(a)"
   ]
  },
  {
   "cell_type": "code",
   "execution_count": 25,
   "id": "b4bb5c20-ff6a-4fca-9844-8c4c8fe7f321",
   "metadata": {},
   "outputs": [
    {
     "data": {
      "text/plain": [
       "array([ 7,  4,  3,  6,  9, 10,  1,  8,  2,  5])"
      ]
     },
     "execution_count": 25,
     "metadata": {},
     "output_type": "execute_result"
    }
   ],
   "source": [
    "a"
   ]
  },
  {
   "cell_type": "code",
   "execution_count": 26,
   "id": "a5ff7e81-5163-4f79-b860-d812947c91eb",
   "metadata": {},
   "outputs": [
    {
     "ename": "AttributeError",
     "evalue": "'numpy.ndarray' object has no attribute 'choice'",
     "output_type": "error",
     "traceback": [
      "\u001b[1;31m---------------------------------------------------------------------------\u001b[0m",
      "\u001b[1;31mAttributeError\u001b[0m                            Traceback (most recent call last)",
      "Cell \u001b[1;32mIn[26], line 1\u001b[0m\n\u001b[1;32m----> 1\u001b[0m \u001b[43ma\u001b[49m\u001b[38;5;241;43m.\u001b[39;49m\u001b[43mchoice\u001b[49m()\n",
      "\u001b[1;31mAttributeError\u001b[0m: 'numpy.ndarray' object has no attribute 'choice'"
     ]
    }
   ],
   "source": [
    "a[5]"
   ]
  },
  {
   "cell_type": "code",
   "execution_count": null,
   "id": "ae112ee1-d86a-4df3-ae68-81be4c945138",
   "metadata": {},
   "outputs": [],
   "source": []
  }
 ],
 "metadata": {
  "kernelspec": {
   "display_name": "Python 3 (ipykernel)",
   "language": "python",
   "name": "python3"
  },
  "language_info": {
   "codemirror_mode": {
    "name": "ipython",
    "version": 3
   },
   "file_extension": ".py",
   "mimetype": "text/x-python",
   "name": "python",
   "nbconvert_exporter": "python",
   "pygments_lexer": "ipython3",
   "version": "3.10.8"
  }
 },
 "nbformat": 4,
 "nbformat_minor": 5
}
